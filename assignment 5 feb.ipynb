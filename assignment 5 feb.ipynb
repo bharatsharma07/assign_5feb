{
 "cells": [
  {
   "cell_type": "markdown",
   "id": "0be2cf41",
   "metadata": {},
   "source": [
    "#ASSIGNMENT (5 FEB)"
   ]
  },
  {
   "cell_type": "code",
   "execution_count": 1,
   "id": "54570067",
   "metadata": {},
   "outputs": [],
   "source": [
    "# ans 1\n",
    "# Class can be defined as it is the centre of oops.it is a blueprint.the data members and member functions(methods)are defined \n",
    "# inside a class.\n",
    "\n",
    "\n",
    "#Objects can be defined as it is a real world entity,we can access the methods of a class through an object.\n",
    "  # for ex=color (red ,blue) so color is class and red,blue are the objects of color class."
   ]
  },
  {
   "cell_type": "code",
   "execution_count": 2,
   "id": "6dc4bd87",
   "metadata": {},
   "outputs": [],
   "source": [
    "class color:\n",
    "    def get(self,color):\n",
    "        self.color=color\n",
    "        return self.color"
   ]
  },
  {
   "cell_type": "code",
   "execution_count": 3,
   "id": "a2f63f76",
   "metadata": {},
   "outputs": [],
   "source": [
    "red=color()"
   ]
  },
  {
   "cell_type": "code",
   "execution_count": 4,
   "id": "3d46364b",
   "metadata": {},
   "outputs": [
    {
     "data": {
      "text/plain": [
       "'red'"
      ]
     },
     "execution_count": 4,
     "metadata": {},
     "output_type": "execute_result"
    }
   ],
   "source": [
    "red.get(\"red\")"
   ]
  },
  {
   "cell_type": "code",
   "execution_count": 5,
   "id": "65661161",
   "metadata": {},
   "outputs": [],
   "source": [
    "blue=color()"
   ]
  },
  {
   "cell_type": "code",
   "execution_count": 6,
   "id": "3b146a53",
   "metadata": {},
   "outputs": [
    {
     "data": {
      "text/plain": [
       "'blue'"
      ]
     },
     "execution_count": 6,
     "metadata": {},
     "output_type": "execute_result"
    }
   ],
   "source": [
    "blue.get(\"blue\")"
   ]
  },
  {
   "cell_type": "code",
   "execution_count": 7,
   "id": "b06084f2",
   "metadata": {},
   "outputs": [],
   "source": [
    "# ans 2\n",
    " #the four pillars of oops are: 1)inheritance   2)polymorphism    3)encapsulation     4)abstraction"
   ]
  },
  {
   "cell_type": "code",
   "execution_count": 8,
   "id": "41288b6e",
   "metadata": {},
   "outputs": [],
   "source": [
    "# ans 3\n",
    "# __init__ function is used to take input from user and it is a special type of member function in oops and is called as \n",
    "# constructor.it is automatically executed when a new object of class is created."
   ]
  },
  {
   "cell_type": "code",
   "execution_count": 9,
   "id": "967c9664",
   "metadata": {},
   "outputs": [],
   "source": [
    "class person:\n",
    "    def __init__(self,name,age):\n",
    "        self.name=name\n",
    "        self.age=age\n",
    "        print()"
   ]
  },
  {
   "cell_type": "code",
   "execution_count": 10,
   "id": "11959632",
   "metadata": {},
   "outputs": [
    {
     "name": "stdout",
     "output_type": "stream",
     "text": [
      "\n"
     ]
    }
   ],
   "source": [
    "p1=person(\"bob\",45)"
   ]
  },
  {
   "cell_type": "code",
   "execution_count": 11,
   "id": "5efbd7da",
   "metadata": {},
   "outputs": [
    {
     "data": {
      "text/plain": [
       "'bob'"
      ]
     },
     "execution_count": 11,
     "metadata": {},
     "output_type": "execute_result"
    }
   ],
   "source": [
    "p1.name"
   ]
  },
  {
   "cell_type": "code",
   "execution_count": 12,
   "id": "a42baff8",
   "metadata": {},
   "outputs": [],
   "source": [
    "#ans4 \n",
    "# self is used in oops because it reference that the method of the class.when a method is call,then it is the first parameter\n",
    "# to the method.by using self we can access the attributes of that class."
   ]
  },
  {
   "cell_type": "code",
   "execution_count": 13,
   "id": "a50bf7bf",
   "metadata": {},
   "outputs": [],
   "source": [
    "# ans 5\n",
    "# inheritance can be defined in which child class can inherit the property of parent class.\n",
    "# there are different types of inheritance. 1)single 2)multilevel 3)multiple and many others like hybrid,hierarchial inheritance"
   ]
  },
  {
   "cell_type": "code",
   "execution_count": 14,
   "id": "d64aea98",
   "metadata": {},
   "outputs": [],
   "source": [
    "# single inheritance\n",
    "class a:\n",
    "    def parent(self):\n",
    "        print(\"parent class\")"
   ]
  },
  {
   "cell_type": "code",
   "execution_count": 15,
   "id": "8cee58b8",
   "metadata": {},
   "outputs": [],
   "source": [
    "class b(a):\n",
    "    def child(self):\n",
    "        print(\"child class\")"
   ]
  },
  {
   "cell_type": "code",
   "execution_count": 16,
   "id": "ed4d2f0b",
   "metadata": {},
   "outputs": [],
   "source": [
    "c=b()"
   ]
  },
  {
   "cell_type": "code",
   "execution_count": 17,
   "id": "7addbaee",
   "metadata": {},
   "outputs": [
    {
     "name": "stdout",
     "output_type": "stream",
     "text": [
      "parent class\n"
     ]
    }
   ],
   "source": [
    "c.parent()"
   ]
  },
  {
   "cell_type": "code",
   "execution_count": 18,
   "id": "709d8854",
   "metadata": {},
   "outputs": [],
   "source": [
    "# multilevel \n",
    "class x:\n",
    "    def grandparent(self):\n",
    "        print(\"grandparent class\")"
   ]
  },
  {
   "cell_type": "code",
   "execution_count": 32,
   "id": "6fa63692",
   "metadata": {},
   "outputs": [],
   "source": [
    "class y(x):\n",
    "    def parent(self):\n",
    "        print(\"parent class\")"
   ]
  },
  {
   "cell_type": "code",
   "execution_count": 33,
   "id": "06237792",
   "metadata": {},
   "outputs": [],
   "source": [
    "class z(y):\n",
    "    def child(self):\n",
    "        print(\"child class\")"
   ]
  },
  {
   "cell_type": "code",
   "execution_count": 34,
   "id": "50647954",
   "metadata": {},
   "outputs": [],
   "source": [
    "obj=z()"
   ]
  },
  {
   "cell_type": "code",
   "execution_count": 35,
   "id": "753f73f8",
   "metadata": {},
   "outputs": [
    {
     "name": "stdout",
     "output_type": "stream",
     "text": [
      "child class\n"
     ]
    }
   ],
   "source": [
    "obj.child()"
   ]
  },
  {
   "cell_type": "code",
   "execution_count": 36,
   "id": "10533920",
   "metadata": {},
   "outputs": [
    {
     "name": "stdout",
     "output_type": "stream",
     "text": [
      "grandparent class\n"
     ]
    }
   ],
   "source": [
    "obj.grandparent()"
   ]
  }
 ],
 "metadata": {
  "kernelspec": {
   "display_name": "Python 3 (ipykernel)",
   "language": "python",
   "name": "python3"
  },
  "language_info": {
   "codemirror_mode": {
    "name": "ipython",
    "version": 3
   },
   "file_extension": ".py",
   "mimetype": "text/x-python",
   "name": "python",
   "nbconvert_exporter": "python",
   "pygments_lexer": "ipython3",
   "version": "3.9.13"
  }
 },
 "nbformat": 4,
 "nbformat_minor": 5
}
